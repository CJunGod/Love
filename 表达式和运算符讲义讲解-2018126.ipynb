{
 "cells": [
  {
   "cell_type": "markdown",
   "metadata": {},
   "source": [
    "## 表达式\n",
    "\n",
    "- 由一个或者几个数字或者变量和运算符组合成的一行代码\n",
    "- 通常会返回一个结果\n",
    "\n",
    "## 运算符\n",
    "\n",
    "- 由一个以上的值经过变化得到新值的过程就叫运算\n",
    "- 用于运算的符号就叫做运算符\n",
    "- 运算符分类：\n",
    "    - 算数运算符\n",
    "    - 比较或者关系运算符\n",
    "    - 赋值运算符\n",
    "    - 位运算\n",
    "    - 成员运算\n",
    "    - 身份运算符\n",
    "    - 逻辑运算符"
   ]
  },
  {
   "cell_type": "markdown",
   "metadata": {},
   "source": [
    "### 算术运算符\n",
    "- 进行算数运算的符号\n",
    "- python没有自增减运算符"
   ]
  },
  {
   "cell_type": "code",
   "execution_count": 1,
   "metadata": {},
   "outputs": [
    {
     "name": "stdout",
     "output_type": "stream",
     "text": [
      "10\n",
      "100\n",
      "2.25\n",
      "1\n",
      "2\n",
      "6561\n",
      "27\n"
     ]
    }
   ],
   "source": [
    "# +，-跟正常运算符一模一样\n",
    "a = 9+3-2;\n",
    "print(a);\n",
    "\n",
    "# 乘号用 * 代替\n",
    "b = 10*10;\n",
    "print(b);\n",
    "# 除号用斜杠 / 代替\n",
    "# 在Python2.x 和Python3.x中，除号（/）结果可能不一致，此处以3系列为准\n",
    "c = 9/4;\n",
    "print(c);\n",
    "\n",
    "# 取余运算\n",
    "# 两个数字相除应该有商数和余数\n",
    "# % 只会得到余数\n",
    "a = 9 % 4;\n",
    "print(a);\n",
    "\n",
    "# //表示取商运算，也叫做地板除\n",
    "a = 9 // 4;\n",
    "print(a);\n",
    "\n",
    "# ** 表示幂运算\n",
    "a = 9 ** 4;\n",
    "print(a);\n",
    "\n",
    "a = 3 ** 3;\n",
    "print(a);"
   ]
  },
  {
   "cell_type": "markdown",
   "metadata": {},
   "source": [
    "# 比较运算符 \n",
    "- 对两个变量或者值进行比较的运算符\n",
    "-  比较的结果是布尔值，即true/false"
   ]
  },
  {
   "cell_type": "code",
   "execution_count": 2,
   "metadata": {},
   "outputs": [
    {
     "name": "stdout",
     "output_type": "stream",
     "text": [
      "False\n",
      "True\n"
     ]
    }
   ],
   "source": [
    "# ==，等于号\n",
    "a = 3 ** 4;\n",
    "# 下面语句执行顺序是\n",
    "# 1. 计算 a==80；\n",
    "#2. 把计算结果放入b中\n",
    "b = a == 80;\n",
    "print(b);\n",
    "\n",
    "# ！=，不等于\n",
    "print(9 != 8);\n",
    "\n",
    "# > 大于\n",
    "# < 小于\n",
    "# >= 大于等于\n",
    "# <= 小于等于"
   ]
  },
  {
   "cell_type": "markdown",
   "metadata": {},
   "source": [
    "### 赋值运算符\n"
   ]
  },
  {
   "cell_type": "code",
   "execution_count": 3,
   "metadata": {},
   "outputs": [
    {
     "name": "stdout",
     "output_type": "stream",
     "text": [
      "4\n",
      "7\n"
     ]
    }
   ],
   "source": [
    "# = ，赋值\n",
    "a = 0;\n",
    "c = a = 4;\n",
    "print(c);\n",
    "\n",
    "# +=,是缩写\n",
    "a = 0;\n",
    "a += 7; #a = a+7的缩写\n",
    "print(a);\n",
    "\n",
    "# 所有数学运算符都有缩写形式\n",
    "# -= , *= , /= , //= , %= , **="
   ]
  },
  {
   "cell_type": "markdown",
   "metadata": {},
   "source": [
    "# 逻辑运算符\n",
    "- 对布尔值进行计算的符号\n",
    "- and  逻辑与 \n",
    "- or 逻辑或\n",
    "- not 逻辑非\n",
    "- python 中逻辑运算没有异或运算\n",
    "- 运算规则：\n",
    "    - and 看做乘法\n",
    "    - or 看做加法\n",
    "    - true 看做1，false看做0\n",
    "    - 则逻辑运算就能转换成整数数字运算\n",
    "    - 最后结果如果是0则为false 否则为true；\n",
    "- 逻辑运算符短路问题\n",
    "     - 逻辑运算式，按照运算顺序计算，一旦能够确定整个式子未来的值，则不再进行计算，直接返回"
   ]
  },
  {
   "cell_type": "code",
   "execution_count": 4,
   "metadata": {},
   "outputs": [
    {
     "name": "stdout",
     "output_type": "stream",
     "text": [
      "True\n",
      "True\n"
     ]
    }
   ],
   "source": [
    " # 逻辑运算符案例\n",
    "a = True\n",
    "b = False\n",
    "c = True;\n",
    "\n",
    "# 以下式子等价于 d = 1 * 0 + 1;\n",
    "d = a and b or c;\n",
    "print(d);\n",
    "\n",
    "d = a or b and a;\n",
    "print(d);"
   ]
  },
  {
   "cell_type": "code",
   "execution_count": 5,
   "metadata": {},
   "outputs": [
    {
     "ename": "SyntaxError",
     "evalue": "invalid syntax (<ipython-input-5-410c16b319b9>, line 10)",
     "output_type": "error",
     "traceback": [
      "\u001b[1;36m  File \u001b[1;32m\"<ipython-input-5-410c16b319b9>\"\u001b[1;36m, line \u001b[1;32m10\u001b[0m\n\u001b[1;33m    a = a or (b = 9) and 6;\u001b[0m\n\u001b[1;37m                ^\u001b[0m\n\u001b[1;31mSyntaxError\u001b[0m\u001b[1;31m:\u001b[0m invalid syntax\n"
     ]
    }
   ],
   "source": [
    "# 逻辑运算短路的案例\n",
    "\n",
    "# 下面的逻辑表达式，a的值一定是True，则运行到or 的时候整个表达式不再向下计算\n",
    "a = True or xxxxxxx;\n",
    "print(a);    \n",
    "\n",
    "# 下面表达式，如果xxx中包含赋值表达式，则结果很难预期\n",
    "# 代码示例（伪代码）;\n",
    "b = 9;\n",
    "a = a or (b = 9) and 6;\n",
    "# 假定上面表达式如果没有语法错误\n",
    "# 则b 最终的值应该是0而不是9；\n",
    "print(b);\n",
    "pring(a);"
   ]
  },
  {
   "cell_type": "markdown",
   "metadata": {},
   "source": [
    "# 成员运算符号\n",
    "- 用来检测某一个变量是否是另一个变量的成员\n",
    "- in\n",
    "- not in"
   ]
  },
  {
   "cell_type": "code",
   "execution_count": 6,
   "metadata": {},
   "outputs": [
    {
     "name": "stdout",
     "output_type": "stream",
     "text": [
      "False\n",
      "True\n",
      "False\n"
     ]
    }
   ],
   "source": [
    "# 案例\n",
    "l = [1,2,3,4,5,6];\n",
    "a = 7;\n",
    "b = a in l;\n",
    "print(b);\n",
    "\n",
    "a = 4;\n",
    "print(a in l);\n",
    "\n",
    "print(a not in l);"
   ]
  },
  {
   "cell_type": "markdown",
   "metadata": {},
   "source": [
    "### 身份运算\n",
    "- is：用来检测两个变量是否是同一个变量\n",
    "    - 语法就是 var1 is var2\n",
    "- is not：两个变量不是同一个变量"
   ]
  },
  {
   "cell_type": "code",
   "execution_count": 7,
   "metadata": {},
   "outputs": [
    {
     "name": "stdout",
     "output_type": "stream",
     "text": [
      "True\n",
      "False\n"
     ]
    }
   ],
   "source": [
    "a = 9;\n",
    "b = 9;\n",
    "print(a is b);\n",
    "\n",
    "a = \"I Love You\";\n",
    "b = \"I Love You\";\n",
    "print(a is b);"
   ]
  },
  {
   "cell_type": "markdown",
   "metadata": {},
   "source": [
    "### 运算符优先级问题\n",
    "- 永远记住，括号具有最高优先级;\n",
    "- 优先级表格\n",
    "    ** 指数（最高优先级）；\n",
    "    + - 按位翻转，一元加号和减号（最后两个方法名为： +@ 和 -@）\n",
    "    \n",
    "    * / % // 乘，除，取模和取整除\n",
    "    \n",
    "    + - 加法减法\n",
    "    \n",
    "    >>  << 右移，左移运算符\n",
    "    \n",
    "    & 位 'and'\n",
    "    \n",
    "    ^ | 位运算符\n",
    "    \n",
    "    <= < > >= 比较运算符\n",
    "    \n",
    "    <> == != 等于运算符\n",
    "    \n",
    "    = %= /= //= -= += *= **= 赋值运算符\n",
    "    \n",
    "    is is not 身份运算符\n",
    "    \n",
    "    in not in 成员运算符\n",
    "    \n",
    "    not or and 逻辑运算符\n",
    "    "
   ]
  },
  {
   "cell_type": "markdown",
   "metadata": {},
   "source": [
    "# 程序结构\n",
    "- 顺序\n",
    "- 分支\n",
    "- 循环"
   ]
  },
  {
   "cell_type": "markdown",
   "metadata": {},
   "source": [
    "# 分支\n",
    "- 分支的基本语法\n",
    "            \n",
    "            if 条件表达式:\n",
    "                语句1\n",
    "                语句2\n",
    "                语句3\n",
    "                ......\n",
    "- 条件表达式就是计算结果必须为布尔值的表达式\n",
    "- 表达式后面的冒号不能少\n",
    "- 注意if后面出现的语句，如果属于if语句块，则必须同一个缩进等级\n",
    "- 条件表达式结果为True执行if后面的缩进的语句块"
   ]
  },
  {
   "cell_type": "code",
   "execution_count": 8,
   "metadata": {},
   "outputs": [
    {
     "name": "stdout",
     "output_type": "stream",
     "text": [
      "去叫家长\n",
      "我们不带你玩\n",
      "学习去吧\n"
     ]
    }
   ],
   "source": [
    "# if语句练习\n",
    "# 如果age小于18岁，则打印信息“去叫家长”\n",
    "age = 17;\n",
    "if age<18:\n",
    "    print(\"去叫家长\");\n",
    "    print(\"我们不带你玩\");\n",
    "    print(\"学习去吧\");"
   ]
  },
  {
   "cell_type": "code",
   "execution_count": 9,
   "metadata": {},
   "outputs": [
    {
     "name": "stdout",
     "output_type": "stream",
     "text": [
      "开始上车啦，老司机们\n"
     ]
    }
   ],
   "source": [
    "# if语句练习\n",
    "# 如果age小于18岁，则打印信息“去叫家长”\n",
    "age = 19;\n",
    "if age<18:\n",
    "    print(\"去叫家长\");\n",
    "    print(\"我们不带你玩\");\n",
    "    print(\"学习去吧\");\n",
    " \n",
    "print(\"开始上车啦，老司机们\");"
   ]
  },
  {
   "cell_type": "code",
   "execution_count": 10,
   "metadata": {},
   "outputs": [
    {
     "name": "stdout",
     "output_type": "stream",
     "text": [
      "今天学习for循环\n",
      "开始啦，Go\n"
     ]
    }
   ],
   "source": [
    "print(\"今天学习for循环\");\n",
    "\n",
    "gender = \"男\";\n",
    "if gender == \"女\":\n",
    "    print(\"给糖吃\")\n",
    "\n",
    "print(\"开始啦，Go\");"
   ]
  },
  {
   "cell_type": "markdown",
   "metadata": {},
   "source": [
    "### 双向分支\n",
    "- if...else...语句\n",
    "\n",
    "    if 条件表达式：\n",
    "        语句1\n",
    "        语句2\n",
    "        ...\n",
    "     else:\n",
    "         语句1\n",
    "         语句2\n",
    "         ...\n",
    "         \n",
    "- 双向分支有两个分支，当程序执行到if...else...语句的时候，一定会执行if或else中的一个，也仅执行一个\n",
    "- 缩进问题，if else 一个层级，其余语句一个层级"
   ]
  },
  {
   "cell_type": "code",
   "execution_count": 11,
   "metadata": {},
   "outputs": [
    {
     "name": "stdout",
     "output_type": "stream",
     "text": [
      "你是男的\n"
     ]
    }
   ],
   "source": [
    "sex =\"男\";\n",
    "if sex == \"女\":\n",
    "    print(\"您是女的\");\n",
    "else:\n",
    "    print(\"你是男的\")"
   ]
  },
  {
   "cell_type": "code",
   "execution_count": 15,
   "metadata": {},
   "outputs": [
    {
     "name": "stdout",
     "output_type": "stream",
     "text": [
      "请输入性别：男\n",
      "您输入的性别是:男性\n",
      "来，让我们纪念一下你是男人这个时刻把\n",
      "开始上课啦，老司机\n"
     ]
    }
   ],
   "source": [
    "# input的作用是\n",
    "# 1.在屏幕上输入括号内的字符串\n",
    "# 2.接受用户输入的内容并返回到程序\n",
    "# 3.input返回的内容一定是字符串类型\n",
    "gender = input(\"请输入性别：\")\n",
    "print(\"您输入的性别是:\"+gender+\"性\")\n",
    "\n",
    "if gender == \"男\":\n",
    "    print(\"来，让我们纪念一下你是男人这个时刻把\")\n",
    "else:\n",
    "    print(\"给你发个糖吧\")\n",
    "print(\"开始上课啦，老司机\");"
   ]
  },
  {
   "cell_type": "code",
   "execution_count": 17,
   "metadata": {},
   "outputs": [
    {
     "name": "stdout",
     "output_type": "stream",
     "text": [
      "请输入学生成绩：85\n",
      "良\n"
     ]
    }
   ],
   "source": [
    "### 考试成绩判断\n",
    "# 90以上：优秀\n",
    "# 80-90：良\n",
    "# 70-80：中\n",
    "# 60-70：及格\n",
    "# 60以下：不及格\n",
    "\n",
    "# score：存放学生成绩\n",
    "# 注意input的返回值类型是字符串\n",
    "# 需要把字符串转换成int类型\n",
    "score = int(input(\"请输入学生成绩：\"))\n",
    "\n",
    "if score>=90:\n",
    "    print(\"优秀\")\n",
    "if score>=80 and score<90:\n",
    "    print(\"良\")\n",
    "if score>=70 and score<80:\n",
    "    print(\"中\")\n",
    "if score>=60 and score<70:\n",
    "    print(\"及格\")\n",
    "if score<60:\n",
    "    print(\"不及格\")"
   ]
  },
  {
   "cell_type": "markdown",
   "metadata": {},
   "source": [
    "### 多路分支\n",
    "- 很多个分支的情况，简称多路分支\n",
    "\n",
    "        if  条件表达式:\n",
    "            语句一\n",
    "            ...\n",
    "         elif 条件表达式:\n",
    "             语句二\n",
    "             ...\n",
    "         elif 条件表达式:\n",
    "             语句三\n",
    "             ...\n",
    "         ...\n",
    "         else:\n",
    "             语句一\n",
    "             ...\n",
    "- elif 可以有很多个\n",
    "- else 可选\n",
    "- 多路分支只会选一个执行"
   ]
  },
  {
   "cell_type": "code",
   "execution_count": 22,
   "metadata": {},
   "outputs": [
    {
     "name": "stdout",
     "output_type": "stream",
     "text": [
      "请输入学生成绩：99\n",
      "优秀\n"
     ]
    }
   ],
   "source": [
    "# score：存放学生成绩\n",
    "# 注意input的返回值类型是字符串\n",
    "# 需要把字符串转换成int类型\n",
    "score = int(input(\"请输入学生成绩：\"))\n",
    "\n",
    "if score>=90:\n",
    "    print(\"优秀\")\n",
    "elif score>=80:\n",
    "    print(\"良\")\n",
    "elif score>=70:\n",
    "    print(\"中\")\n",
    "elif score>=60:\n",
    "    print(\"及格\")\n",
    "else:\n",
    "    print(\"不及格\")"
   ]
  },
  {
   "cell_type": "markdown",
   "metadata": {},
   "source": [
    "## if语句其他：\n",
    "- if语句可以嵌套使用，但不推荐\n",
    "- python没有switch-case语句"
   ]
  },
  {
   "cell_type": "markdown",
   "metadata": {},
   "source": [
    "# 循环语句\n",
    "- 重复执行某些固定动作或者处理基本固定的事物\n",
    "- 分类\n",
    "    - for循环\n",
    "    - while循环\n",
    "    \n",
    "# for循环\n",
    "- for循环\n",
    "    \n",
    "        for 变量 in 序列:\n",
    "            语句1\n",
    "            语句2\n",
    "            ...\n",
    "            "
   ]
  },
  {
   "cell_type": "code",
   "execution_count": 25,
   "metadata": {},
   "outputs": [
    {
     "name": "stdout",
     "output_type": "stream",
     "text": [
      "zhangsan\n",
      "lisi\n",
      "wangwu\n"
     ]
    }
   ],
   "source": [
    "# 列表就是一列数字或者其他值，一般用中括号表示\n",
    "# 例如 ['zhangsan'，‘lisi’,'wangwu]\n",
    "\n",
    "# 打印学生列表姓名\n",
    "for stu in ['zhangsan','lisi','wangwu']:\n",
    "            print(stu)"
   ]
  },
  {
   "cell_type": "code",
   "execution_count": 35,
   "metadata": {},
   "outputs": [
    {
     "name": "stdout",
     "output_type": "stream",
     "text": [
      "我不认识你\n",
      "我是你最好的朋友lisi\n",
      "我不认识你\n"
     ]
    }
   ],
   "source": [
    "# 打印学生列表姓名\n",
    "# 如果是lisi，那肯定是我的最好朋友\n",
    "# 如果是别的同学，那要拒绝他\n",
    "for stu in ['zhangsan','lisi','wangwu']:\n",
    "    if stu == 'lisi':\n",
    "        print(\"我是你最好的朋友\"+stu)\n",
    "    else:\n",
    "        print(\"我不认识你\")"
   ]
  },
  {
   "cell_type": "markdown",
   "metadata": {},
   "source": [
    "### range介绍\n",
    "- 生成一个数字序列\n",
    "- 具体范围可以设定"
   ]
  },
  {
   "cell_type": "code",
   "execution_count": 36,
   "metadata": {},
   "outputs": [
    {
     "name": "stdout",
     "output_type": "stream",
     "text": [
      "1\n",
      "2\n",
      "3\n",
      "4\n",
      "5\n",
      "6\n",
      "7\n",
      "8\n",
      "9\n",
      "10\n"
     ]
    }
   ],
   "source": [
    "# ange练习\n",
    "# 打印从一到十的数字\n",
    "# 注意，一般在python中，如果有表示数字范围的两个数，一般是包含左边的数字不包含右边的数字\n",
    "# randint是特例，他左右都包含\n",
    "# range函数在python2 和 python3中有严重区别\n",
    "\n",
    "for i in range(1,11):\n",
    "    print(i)"
   ]
  },
  {
   "cell_type": "markdown",
   "metadata": {},
   "source": [
    "## for-else语句\n",
    "- 当for循环结束的时候，会执行else的语句\n",
    "- else是可选的"
   ]
  },
  {
   "cell_type": "code",
   "execution_count": 40,
   "metadata": {},
   "outputs": [
    {
     "name": "stdout",
     "output_type": "stream",
     "text": [
      "我不认识你\n",
      "我是你最好的朋友lisi\n",
      "我不认识你\n",
      "别的都不是我的\n"
     ]
    }
   ],
   "source": [
    "# for-else语句\n",
    "# 打印列表中的同学\n",
    "# 如果没有在列表中，或者列表结束了，我们需要打印提醒语句，表示不再爱了\n",
    "\n",
    "# 打印学生列表姓名\n",
    "# 如果是lisi，那肯定是我的最好朋友\n",
    "# 如果是别的同学，那要拒绝他\n",
    "for stu in ['zhangsan','lisi','wangwu']:\n",
    "    if stu == 'lisi':\n",
    "        print(\"我是你最好的朋友\"+stu)\n",
    "    else:\n",
    "        print(\"我不认识你\")\n",
    "else:\n",
    "    print(\"别的都不是我的\")"
   ]
  },
  {
   "cell_type": "markdown",
   "metadata": {},
   "source": [
    "### for循环之break；continue；pass；\n",
    "- break：无条件结束整个循环;\n",
    "- continue：无条件结束本次循环，从新进入下一轮循环\n",
    "- pss：表示路过"
   ]
  },
  {
   "cell_type": "code",
   "execution_count": 45,
   "metadata": {},
   "outputs": [
    {
     "name": "stdout",
     "output_type": "stream",
     "text": [
      "1\n",
      "2\n",
      "3\n",
      "4\n",
      "5\n",
      "6\n",
      "我找到了\n"
     ]
    }
   ],
   "source": [
    "# 在1-10的数字中，寻找数字7，一旦找到，打印出来，其余则什么都不做\n",
    "# for循环中的变量表示，一般用i，k，m，n或者indx，idx，item之类\n",
    "# 在python中，如果循环变量名称不重要，可以使用下划线（_）代替\n",
    "for i in range(1,10):\n",
    "    if i == 7:\n",
    "        print(\"我找到了\")\n",
    "        break;\n",
    "    else:\n",
    "        print(i)"
   ]
  },
  {
   "cell_type": "code",
   "execution_count": 55,
   "metadata": {},
   "outputs": [
    {
     "name": "stdout",
     "output_type": "stream",
     "text": [
      "2是偶数\n",
      "4是偶数\n",
      "6是偶数\n",
      "8是偶数\n"
     ]
    }
   ],
   "source": [
    "# continue 版本1；\n",
    "#在数字1-10中，寻找所有偶数，找到偶数并打印偶数\n",
    "# 在1-10的数字中，寻找数字7，一旦找到，打印出来，其余则什么都不做\n",
    "# for循环中的变量表示，一般用i，k，m，n或者indx，idx，item之类\n",
    "# 在python中，如果循环变量名称不重要，可以使用下划线（_）代替\n",
    "for i in range(1,10):\n",
    "    if i%2==1:\n",
    "        continue;\n",
    "    else:\n",
    "        print(\"{0}是偶数\".format(i))"
   ]
  },
  {
   "cell_type": "code",
   "execution_count": 62,
   "metadata": {},
   "outputs": [
    {
     "name": "stdout",
     "output_type": "stream",
     "text": [
      "2是偶数\n",
      "4是偶数\n",
      "6是偶数\n",
      "8是偶数\n"
     ]
    }
   ],
   "source": [
    "# continue 版本2\n",
    "#在数字1-10中，寻找所有偶数，找到偶数并打印偶数\n",
    "# 在1-10的数字中，寻找数字7，一旦找到，打印出来，其余则什么都不做\n",
    "# for循环中的变量表示，一般用i，k，m，n或者indx，idx，item之类\n",
    "# 在python中，如果循环变量名称不重要，可以使用下划线（_）代替\n",
    "for i in range(1,10):\n",
    "    if i%2==0:\n",
    "          print(\"{0}是偶数\".format(i))"
   ]
  },
  {
   "cell_type": "code",
   "execution_count": 66,
   "metadata": {},
   "outputs": [
    {
     "name": "stdout",
     "output_type": "stream",
     "text": [
      "2是偶数\n",
      "4是偶数\n",
      "6是偶数\n",
      "8是偶数\n"
     ]
    }
   ],
   "source": [
    "# continue 版本3\n",
    "#在数字1-10中，寻找所有偶数，找到偶数并打印偶数\n",
    "# 在1-10的数字中，寻找数字7，一旦找到，打印出来，其余则什么都不做\n",
    "# for循环中的变量表示，一般用i，k，m，n或者indx，idx，item之类\n",
    "# 在python中，如果循环变量名称不重要，可以使用下划线（_）代替\n",
    "# 本案例完整显示continue的用法和作用\n",
    "for i in range(1,10):\n",
    "    if i%2==1:\n",
    "        continue\n",
    "        \n",
    "    print(\"{0}是偶数\".format(i))"
   ]
  },
  {
   "cell_type": "code",
   "execution_count": 71,
   "metadata": {},
   "outputs": [
    {
     "name": "stdout",
     "output_type": "stream",
     "text": [
      "我在这里\n",
      "我在这里\n",
      "我在这里\n",
      "我在这里\n",
      "我在这里\n",
      "我在这里\n",
      "我在这里\n",
      "我在这里\n",
      "我在这里\n"
     ]
    }
   ],
   "source": [
    "# pass例子，一般用于占位\n",
    "#pass没有跳过功能\n",
    "\n",
    "for i in range(1,10):\n",
    "    pass\n",
    "    print(\"我在这里\")"
   ]
  },
  {
   "cell_type": "markdown",
   "metadata": {},
   "source": [
    "## while循环\n",
    "- 一个循环语句\n",
    "- 表示当某个条件成立的时候就循环\n",
    "- 不知道具体次数，但能确定循环的成立条件的时候用while循环\n",
    "- while 语法：\n",
    "        while 条件表达式:\n",
    "            语句块\n",
    "                   \n",
    "         #另外一种表达式\n",
    "         while 条件表达式：\n",
    "             语句1\n",
    "         else：\n",
    "             语句2"
   ]
  },
  {
   "cell_type": "code",
   "execution_count": 4,
   "metadata": {},
   "outputs": [
    {
     "name": "stdout",
     "output_type": "stream",
     "text": [
      "第1年拿了10670.0 块钱\n",
      "第2年拿了11384.89 块钱\n",
      "第3年拿了12147.677629999998 块钱\n",
      "第4年拿了12961.572031209998 块钱\n",
      "第5年拿了13829.997357301068 块钱\n",
      "第6年拿了14756.607180240238 块钱\n",
      "第7年拿了15745.299861316334 块钱\n",
      "第8年拿了16800.23495202453 块钱\n",
      "第9年拿了17925.85069381017 块钱\n",
      "第10年拿了19126.88269029545 块钱\n",
      "第11年拿了20408.383830545245 块钱\n"
     ]
    }
   ],
   "source": [
    "# 如果说年利率是6.7%，本利是每年翻滚，则多少年后本钱会翻倍\n",
    "code = 10000;\n",
    "year = 0\n",
    "while code<20000:\n",
    "    code = code*(1+0.067);\n",
    "    year += 1 # year = year+1\n",
    "    print(\"第{0}年拿了{1} 块钱\".format(year,code))"
   ]
  },
  {
   "cell_type": "code",
   "execution_count": 6,
   "metadata": {},
   "outputs": [
    {
     "name": "stdout",
     "output_type": "stream",
     "text": [
      "第1年拿了10670.0 块钱\n",
      "第2年拿了11384.89 块钱\n",
      "第3年拿了12147.677629999998 块钱\n",
      "第4年拿了12961.572031209998 块钱\n",
      "第5年拿了13829.997357301068 块钱\n",
      "第6年拿了14756.607180240238 块钱\n",
      "第7年拿了15745.299861316334 块钱\n",
      "第8年拿了16800.23495202453 块钱\n",
      "第9年拿了17925.85069381017 块钱\n",
      "第10年拿了19126.88269029545 块钱\n",
      "第11年拿了20408.383830545245 块钱\n",
      "恭喜您，翻倍了\n"
     ]
    }
   ],
   "source": [
    "# 如果说年利率是6.7%，本利是每年翻滚，则多少年后本钱会翻倍\n",
    "# 如果拿到的钱翻倍，则用print（）庆祝一下\n",
    "code = 10000;\n",
    "year = 0\n",
    "while code<20000:\n",
    "    code = code*(1+0.067);\n",
    "    year += 1 # year = year+1\n",
    "    print(\"第{0}年拿了{1} 块钱\".format(year,code))\n",
    "else:\n",
    "    print(\"恭喜您，翻倍了\")"
   ]
  },
  {
   "cell_type": "markdown",
   "metadata": {},
   "source": [
    "# 函数\n",
    "- 代码的一种组织\n",
    "- 一个函数一般完成一项特定的功能\n",
    "- 函数使用\n",
    "    - 函数需要先定义\n",
    "    - 使用函数 俗称调用"
   ]
  },
  {
   "cell_type": "code",
   "execution_count": 83,
   "metadata": {},
   "outputs": [
    {
     "name": "stdout",
     "output_type": "stream",
     "text": [
      "我是一个函数\n"
     ]
    }
   ],
   "source": [
    "# 定义一个函数\n",
    "# 只是定义的话不会执行\n",
    "# 1.def关键字，后面跟一个空格\n",
    "# 2. 函数名，自己定义，起名需要遵循变量命名规则，约定俗称，大驼峰命名只给类用\n",
    "# 3. 后面括号和冒号不能省，括号内可以有参数\n",
    "# 4. 函数内所有代码缩进\n",
    "def func():\n",
    "     print(\"我是一个函数\")\n",
    "        \n",
    "# 函数的调用\n",
    "# 直接函数名后跟一个括号\n",
    "func()"
   ]
  },
  {
   "cell_type": "markdown",
   "metadata": {},
   "source": [
    "## 函数的参数与返回值\n",
    "- 参数：负责给函数传递一些必要的数据或者信息\n",
    "    - 形参（形式参数）：在函数定义的时候用到的参数没有具体值，只是一个占位的符号，成为形参\n",
    "    - 实参（实际参数）：在调用函数的时候输入的值\n",
    "- 返回值：函数的执行结果\n",
    "    - 使用return关键字\n",
    "    - 如果没有return，默认返回一个None\n",
    "    - 函数一旦执行return语句，则无条件返回，即结束函数的执行"
   ]
  },
  {
   "cell_type": "code",
   "execution_count": 84,
   "metadata": {},
   "outputs": [
    {
     "name": "stdout",
     "output_type": "stream",
     "text": [
      "Sir,你怎么了\n",
      "Sir,你怎么就不理我啦\n"
     ]
    }
   ],
   "source": [
    "# 参数的定义和使用\n",
    "# 参数person只是一个符号，代表的是调用的时候某一个数据\n",
    "# 调用的时候，会用p的值代替函数中所有的person\n",
    "\n",
    "def hello(person):\n",
    "    print(\"{0},你怎么了\".format(person))\n",
    "    print(\"Sir,你怎么就不理我啦\")\n",
    "hello(\"Sir\");"
   ]
  },
  {
   "cell_type": "code",
   "execution_count": 85,
   "metadata": {},
   "outputs": [
    {
     "name": "stdout",
     "output_type": "stream",
     "text": [
      "Sir,你怎么了\n",
      "Sir,你怎么就不理我啦\n",
      "我已经跟Sir打招呼了，Sir不理我\n"
     ]
    }
   ],
   "source": [
    "# return语句的基本使用\n",
    "# 函数打完招呼后返回一句话\n",
    "\n",
    "def hello(person):\n",
    "    print(\"{0},你怎么了\".format(person))\n",
    "    print(\"Sir,你怎么就不理我啦\")\n",
    "    \n",
    "    return \"我已经跟{0}打招呼了，{1}不理我\".format(person,person)\n",
    "\n",
    "rst = hello(\"Sir\");\n",
    "print(rst)"
   ]
  },
  {
   "cell_type": "code",
   "execution_count": 86,
   "metadata": {},
   "outputs": [
    {
     "name": "stdout",
     "output_type": "stream",
     "text": [
      "Sir,你怎么了\n",
      "我已经执行完了结束喽\n"
     ]
    }
   ],
   "source": [
    "# return 案例2\n",
    "def hello(person):\n",
    "    print(\"{0},你怎么了\".format(person))\n",
    "    return \"我已经执行完了结束喽\"\n",
    "    print(\"Sir,你怎么就不理我啦\")\n",
    "    \n",
    "    return \"我已经跟{0}打招呼了，{1}不理我\".format(person,person)\n",
    "\n",
    "rst = hello(\"Sir\");\n",
    "print(rst)"
   ]
  },
  {
   "cell_type": "code",
   "execution_count": 87,
   "metadata": {},
   "outputs": [
    {
     "name": "stdout",
     "output_type": "stream",
     "text": [
      "Help on built-in function print in module builtins:\n",
      "\n",
      "print(...)\n",
      "    print(value, ..., sep=' ', end='\\n', file=sys.stdout, flush=False)\n",
      "    \n",
      "    Prints the values to a stream, or to sys.stdout by default.\n",
      "    Optional keyword arguments:\n",
      "    file:  a file-like object (stream); defaults to the current sys.stdout.\n",
      "    sep:   string inserted between values, default a space.\n",
      "    end:   string appended after the last value, default a newline.\n",
      "    flush: whether to forcibly flush the stream.\n",
      "\n"
     ]
    }
   ],
   "source": [
    "# 查找函数帮助文档\n",
    "# 1.用help函数\n",
    "help(print)"
   ]
  },
  {
   "cell_type": "code",
   "execution_count": 88,
   "metadata": {},
   "outputs": [
    {
     "name": "stdout",
     "output_type": "stream",
     "text": [
      "1*1=1\t- - - - - -\n",
      "2*1=2\t2*2=4\t- - - - - -\n",
      "3*1=3\t3*2=6\t3*3=9\t- - - - - -\n",
      "4*1=4\t4*2=8\t4*3=12\t4*4=16\t- - - - - -\n",
      "5*1=5\t5*2=10\t5*3=15\t5*4=20\t5*5=25\t- - - - - -\n",
      "6*1=6\t6*2=12\t6*3=18\t6*4=24\t6*5=30\t6*6=36\t- - - - - -\n",
      "7*1=7\t7*2=14\t7*3=21\t7*4=28\t7*5=35\t7*6=42\t7*7=49\t- - - - - -\n",
      "8*1=8\t8*2=16\t8*3=24\t8*4=32\t8*5=40\t8*6=48\t8*7=56\t8*8=64\t- - - - - -\n",
      "9*1=9\t9*2=18\t9*3=27\t9*4=36\t9*5=45\t9*6=54\t9*7=63\t9*8=72\t9*9=81\t- - - - - -\n"
     ]
    }
   ],
   "source": [
    "# 九九乘法表\n",
    "# 1.0\n",
    "for row in range(1,10):\n",
    "    # 打印一行\n",
    "    for col in range(1,row+1):\n",
    "        print(\"{0}*{1}={2}\".format(row,col,row*col), end=\"\\t\")\n",
    "    print(\"- - - - - -\")"
   ]
  },
  {
   "cell_type": "code",
   "execution_count": 89,
   "metadata": {},
   "outputs": [
    {
     "name": "stdout",
     "output_type": "stream",
     "text": [
      "1*1=1\t\n",
      "2*1=2\t2*2=4\t\n",
      "3*1=3\t3*2=6\t3*3=9\t\n",
      "4*1=4\t4*2=8\t4*3=12\t4*4=16\t\n",
      "5*1=5\t5*2=10\t5*3=15\t5*4=20\t5*5=25\t\n",
      "6*1=6\t6*2=12\t6*3=18\t6*4=24\t6*5=30\t6*6=36\t\n",
      "7*1=7\t7*2=14\t7*3=21\t7*4=28\t7*5=35\t7*6=42\t7*7=49\t\n",
      "8*1=8\t8*2=16\t8*3=24\t8*4=32\t8*5=40\t8*6=48\t8*7=56\t8*8=64\t\n",
      "9*1=9\t9*2=18\t9*3=27\t9*4=36\t9*5=45\t9*6=54\t9*7=63\t9*8=72\t9*9=81\t\n"
     ]
    }
   ],
   "source": [
    "# 定义一个函数，打印一行九九乘法表\n",
    "def printLine(row):\n",
    "    for col in range(1,row+1):\n",
    "        print(\"{0}*{1}={2}\".format(row,col,row*col), end=\"\\t\")\n",
    "    print(\"\")\n",
    "\n",
    "# 2.0\n",
    "for row in range(1,10):\n",
    "    printLine(row)"
   ]
  },
  {
   "cell_type": "markdown",
   "metadata": {},
   "source": [
    "### 参数详解\n",
    "- [参考资料]（https://www.cnblogs.com/bingabcd/p/6671368.html）;\n",
    "- python参考资料：headfirst python -> 零基础入门学习python（小甲鱼） ->腾讯公开免费课\n",
    "- 参数分类\n",
    "    - 普通参数\n",
    "    - 默认参数\n",
    "    - 关键字参数\n",
    "    - 收集参数\n",
    "    \n",
    "- 普通参数\n",
    "    - c 参见上例\n",
    "    - 定义的时候直接定义变量名\n",
    "    - 调用的时候直接把变量或者值放入指定位置\n",
    "        \n",
    "        def 函数名 （参数1，参数2，...）\n",
    "            函数体\n",
    "           \n",
    "         - 调用\n",
    "         函数名（value1，value2，...）;\n",
    "         \n",
    "         - 调用的时候，具体值参数的是位置，按位置赋值\n",
    "\n",
    "- 默认参数\n",
    "    - 形参带有默认值\n",
    "    - 调用的时候，如果没有对相应参数赋值，则使用默认值\n",
    "    \n",
    "            def func_name(p1=v1,p2=v2,.....):\n",
    "                func_block\n",
    "                \n",
    "             #调用\n",
    "             func_name()\n",
    "             \n",
    "             #调用2\n",
    "             value1 = 100\n",
    "             value2 = 200\n",
    "             func_name(value1,value2)"
   ]
  },
  {
   "cell_type": "code",
   "execution_count": 90,
   "metadata": {},
   "outputs": [],
   "source": [
    "# 默认参数示例\n",
    "# 报名函数，需要知道学生的性别\n",
    "# 学习python的学生基本都是男生，所以，报名的时候如果没有特别指定，我们的默认是男生\n",
    "def reg(name,age,gender=\"男\"):\n",
    "    if gender == \"男\":\n",
    "        print(\"{0} is {1},and he is a good student\".format(name,age))\n",
    "    else:\n",
    "        print(\"{0} is {1},and she is a good student\".format(name,age))"
   ]
  },
  {
   "cell_type": "code",
   "execution_count": 8,
   "metadata": {},
   "outputs": [
    {
     "ename": "NameError",
     "evalue": "name 'reg' is not defined",
     "output_type": "error",
     "traceback": [
      "\u001b[1;31m---------------------------------------------------------------------------\u001b[0m",
      "\u001b[1;31mNameError\u001b[0m                                 Traceback (most recent call last)",
      "\u001b[1;32m<ipython-input-8-e754bddf31dc>\u001b[0m in \u001b[0;36m<module>\u001b[1;34m()\u001b[0m\n\u001b[0;32m      1\u001b[0m \u001b[1;31m## 调用函数默认参数案例1\u001b[0m\u001b[1;33m\u001b[0m\u001b[1;33m\u001b[0m\u001b[0m\n\u001b[0;32m      2\u001b[0m \u001b[1;33m\u001b[0m\u001b[0m\n\u001b[1;32m----> 3\u001b[1;33m \u001b[0mreg\u001b[0m\u001b[1;33m(\u001b[0m\u001b[1;34m\"小白\"\u001b[0m\u001b[1;33m,\u001b[0m\u001b[1;34m\"18\"\u001b[0m\u001b[1;33m)\u001b[0m\u001b[1;33m\u001b[0m\u001b[0m\n\u001b[0m\u001b[0;32m      4\u001b[0m \u001b[1;33m\u001b[0m\u001b[0m\n\u001b[0;32m      5\u001b[0m \u001b[1;31m## 调用函数默认参数案例2\u001b[0m\u001b[1;33m\u001b[0m\u001b[1;33m\u001b[0m\u001b[0m\n",
      "\u001b[1;31mNameError\u001b[0m: name 'reg' is not defined"
     ]
    }
   ],
   "source": [
    "## 调用函数默认参数案例1\n",
    "\n",
    "reg(\"小白\",\"18\")\n",
    "\n",
    "## 调用函数默认参数案例2\n",
    "\n",
    "reg(\"小花\",\"23\",\"女\")"
   ]
  },
  {
   "cell_type": "markdown",
   "metadata": {},
   "source": [
    "### 关键字参数开始\n",
    "- 语法\n",
    "        def func(p1=v1,p2=v2....):\n",
    "            func_body\n",
    "            \n",
    "        调用函数：\n",
    "            func(p1=value1,p2=values2....):\n",
    "- 比较麻烦，但是也有好处\n",
    "    -不容易混淆，一般实参和形参只是按照位置一一对应即可，容易出错\n",
    "    - 使用关键字参数，可以不考虑参数位置"
   ]
  },
  {
   "cell_type": "code",
   "execution_count": 7,
   "metadata": {},
   "outputs": [
    {
     "name": "stdout",
     "output_type": "stream",
     "text": [
      "I am student\n",
      "我叫天天，我今年18岁了，我住我家\n",
      "I am student\n",
      "我叫天天，我今年18岁了，我住我家\n"
     ]
    }
   ],
   "source": [
    "# 关键字参数案例\n",
    "def stu(name,age,addr):\n",
    "    print(\"I am student\")\n",
    "    print(\"我叫{0}，我今年{1}岁了，我住{2}\".format(name,age,addr))\n",
    "    \n",
    "n = \"天天\"\n",
    "a = 18\n",
    "addr = \"我家\"\n",
    "\n",
    "# 普通参数 \n",
    "stu(n,a,addr)\n",
    "\n",
    "# 关键字参数案例\n",
    "def stu_key(name=\"No name\",age=0,addr=\"No addr\"):\n",
    "    print(\"I am student\")\n",
    "    print(\"我叫{0}，我今年{1}岁了，我住{2}\".format(name,age,addr))\n",
    "    \n",
    "n = \"天天\"\n",
    "a = 18\n",
    "addr = \"我家\"\n",
    "\n",
    "# 普通参数 \n",
    "stu_key(age=a, name=n, addr=addr)"
   ]
  },
  {
   "cell_type": "markdown",
   "metadata": {},
   "source": [
    "# 收集参数\n",
    "- 把没有位置，不能和定义时的参数未知相对应的参数，放入一个特定的数据结构中\n",
    "- 语法\n",
    "        def func(*args):\n",
    "            func_body\n",
    "            按照list使用方式访问args得到传入的参数\n",
    "            \n",
    "         调用：\n",
    "         func(p1,p2,p3,.....)\n",
    "- 参数名args不是必须这么写，没有特殊原因推荐直接用args，约定俗成\n",
    "- 参数名args前需要有星号（*）\n",
    "- 收集参数可以和其他参数共存"
   ]
  },
  {
   "cell_type": "code",
   "execution_count": 15,
   "metadata": {},
   "outputs": [
    {
     "name": "stdout",
     "output_type": "stream",
     "text": [
      "<class 'tuple'>\n",
      "崔俊磊\n",
      "18\n",
      "我年收入两百万以上\n",
      "你们好\n"
     ]
    }
   ],
   "source": [
    "# 收集参数代码\n",
    "# 函数模拟一个学生进行自我介绍，但具体内容不清楚\n",
    "# args把它看做一个list\n",
    "\n",
    "def stu(*args):\n",
    "    # type函数检测变量的类型\n",
    "    print(type(args))\n",
    "    for i in args :\n",
    "        print(i)\n",
    "\n",
    "stu(\"崔俊磊\",18,\"我年收入两百万以上\",\"你们好\")"
   ]
  },
  {
   "cell_type": "code",
   "execution_count": 17,
   "metadata": {},
   "outputs": [
    {
     "name": "stdout",
     "output_type": "stream",
     "text": [
      "<class 'tuple'>\n"
     ]
    }
   ],
   "source": [
    "# 收集参数案例\n",
    "# 说明收集参数可以不带任何实参调用，此时手机参数类型为tuple\n",
    "stu();"
   ]
  },
  {
   "cell_type": "code",
   "execution_count": 18,
   "metadata": {},
   "outputs": [
    {
     "ename": "TypeError",
     "evalue": "stu() got an unexpected keyword argument 'name'",
     "output_type": "error",
     "traceback": [
      "\u001b[1;31m---------------------------------------------------------------------------\u001b[0m",
      "\u001b[1;31mTypeError\u001b[0m                                 Traceback (most recent call last)",
      "\u001b[1;32m<ipython-input-18-82ba00486836>\u001b[0m in \u001b[0;36m<module>\u001b[1;34m()\u001b[0m\n\u001b[0;32m      1\u001b[0m \u001b[1;31m# 如果使用关键字参数格式调用，会出现问题\u001b[0m\u001b[1;33m\u001b[0m\u001b[1;33m\u001b[0m\u001b[0m\n\u001b[1;32m----> 2\u001b[1;33m \u001b[0mstu\u001b[0m\u001b[1;33m(\u001b[0m\u001b[0mname\u001b[0m\u001b[1;33m=\u001b[0m\u001b[1;34m\"天天\"\u001b[0m\u001b[1;33m)\u001b[0m\u001b[1;33m;\u001b[0m\u001b[1;33m\u001b[0m\u001b[0m\n\u001b[0m",
      "\u001b[1;31mTypeError\u001b[0m: stu() got an unexpected keyword argument 'name'"
     ]
    }
   ],
   "source": [
    "# 如果使用关键字参数格式调用，会出现问题\n",
    "stu(name=\"天天\");"
   ]
  },
  {
   "cell_type": "markdown",
   "metadata": {},
   "source": [
    "###   收集参数之关键字收集参数\n",
    "- 把关键字参数按字典格式存入收集参数\n",
    "- 语法\n",
    "        def func(**kwargs):\n",
    "            func_body\n",
    "        # 调用：\n",
    "        func (p1=v1,p2=v2......)\n",
    "- kwargs一般约定俗成\n",
    "- 调用的时候，把多余的关键字参数放入kwargs\n",
    "- 访问kwargs需要按照字典格式访问"
   ]
  },
  {
   "cell_type": "code",
   "execution_count": 40,
   "metadata": {},
   "outputs": [
    {
     "name": "stdout",
     "output_type": "stream",
     "text": [
      "<class 'dict'>\n",
      "name - - 天天\n",
      "age - - 18\n",
      "addr - - 我住在中国\n",
      "lover - - 美女\n",
      "work - - 闲着赚钱\n",
      "********************\n",
      "<class 'dict'>\n",
      "name - - 小旺旺\n"
     ]
    }
   ],
   "source": [
    "# 收集参数案例\n",
    "# 自我介绍\n",
    "# 调用的时候需要使用关键字参数调用\n",
    "def stu(**kwargs):\n",
    "    print(type(kwargs))\n",
    "    # 对于字典的访问，python2 和python3有区别\n",
    "    for k,v in kwargs.items():\n",
    "        print(k,\"- -\",v)\n",
    "    \n",
    "stu(name=\"天天\",age=18,addr=\"我住在中国\",lover=\"美女\",work=\"闲着赚钱\")\n",
    "print(\"*\" * 20)\n",
    "\n",
    "stu(name=\"小旺旺\")"
   ]
  },
  {
   "cell_type": "code",
   "execution_count": 42,
   "metadata": {},
   "outputs": [
    {
     "name": "stdout",
     "output_type": "stream",
     "text": [
      "<class 'dict'>\n"
     ]
    }
   ],
   "source": [
    "# 收集参数可以为空的案例\n",
    "stu()"
   ]
  },
  {
   "cell_type": "markdown",
   "metadata": {},
   "source": [
    "### 收集参数混合调用的顺序问题\n",
    "- 收集参数，关键字参数，普通参数可以混合使用\n",
    "- 使用规则就是，普通参数和关键字参数优先\n",
    "- 定义的时候一般找普通参数，关键字参数，收集参数tuple，收集参数"
   ]
  },
  {
   "cell_type": "code",
   "execution_count": 9,
   "metadata": {},
   "outputs": [
    {
     "name": "stdout",
     "output_type": "stream",
     "text": [
      "Hello 大家好:\n",
      "我叫小王子，我今年18了,\n",
      "我没有爱好\n",
      "******************************\n",
      "Hello 大家好:\n",
      "我叫小王子，我今年18了,\n",
      "我的爱好是：开飞机\n",
      "******************************\n",
      "Hello 大家好:\n",
      "我叫小王子，我今年18了,\n",
      "我的爱好是：游泳\n",
      "******************************\n",
      "王飞\n",
      "狮子头\n",
      "hobby2 - - -  烹饪\n",
      "hobby3 - - -  跟妹子一起\n"
     ]
    }
   ],
   "source": [
    "# 收集参数混合调用案例\n",
    "# stu模拟一个学生的自我介绍\n",
    "def stu(name, age, *args, hobby=\"么有\",  **kwargs):\n",
    "    print(\"Hello 大家好:\")\n",
    "    print(\"我叫{0}，我今年{1}了,\".format(name,age))\n",
    "    if hobby == \"么有\":\n",
    "        print(\"我没有爱好\")\n",
    "    else:\n",
    "        print(\"我的爱好是：{0}\".format(hobby))\n",
    "        \n",
    "    print(\"*\"*30)\n",
    "    for i in args:\n",
    "        print(i)\n",
    "    \n",
    "    for k,v in kwargs.items():\n",
    "        print(k,\"- - - \",v)\n",
    "        \n",
    "# 开始调用函数\n",
    "name = \"小王子\"\n",
    "age = 18\n",
    "\n",
    "# 调用的不同格式\n",
    "stu(name,age )\n",
    "\n",
    "stu(name,age,hobby=\"开飞机\")\n",
    "\n",
    "stu(name,age,\"王飞\",\"狮子头\",hobby=\"游泳\",hobby2=\"烹饪\",hobby3=\"跟妹子一起\")"
   ]
  },
  {
   "cell_type": "markdown",
   "metadata": {},
   "source": [
    "###  收集参数的解包问题\n",
    "- 把参数放入list或者字典中，直接把list/dict中的值放入收集参数中\n",
    "- 语法：参看案例"
   ]
  },
  {
   "cell_type": "code",
   "execution_count": 16,
   "metadata": {},
   "outputs": [
    {
     "name": "stdout",
     "output_type": "stream",
     "text": [
      "哈哈哈\n",
      "<class 'list'>\n",
      "0\n",
      "['liusadku', 18, 19, 'snduash']\n",
      "哈哈哈\n",
      "<class 'str'>\n",
      "0\n",
      "liusadku\n",
      "<class 'int'>\n",
      "1\n",
      "18\n",
      "<class 'int'>\n",
      "2\n",
      "19\n",
      "<class 'str'>\n",
      "3\n",
      "snduash\n"
     ]
    }
   ],
   "source": [
    "# 收集参数的解包问题\n",
    "def stu(*args):\n",
    "    print(\"哈哈哈\")\n",
    "    # n 用来表示循环次数\n",
    "    # 主要用来调试\n",
    "    n = 0\n",
    "    for i in args:\n",
    "        print(type(i))\n",
    "        print(n)\n",
    "        n += 1\n",
    "        print(i)\n",
    "        \n",
    "#stu(\"lishuxue\",\"lixushu\",19,200)\n",
    "\n",
    "l = [\"liusadku\",18,19,\"snduash\"]\n",
    "\n",
    "stu(l)\n",
    "\n",
    "# 此时，args的表示形式是字典内一个list类型元素，即 arg = ([\"liusadku\",18,19,\"snduash\"])\n",
    "# 很显然跟我们最初的想法违背\n",
    "\n",
    "# 此时的调用，我们就需要解包符号，即调用的时候前面加一个星号\n",
    "stu(*l)"
   ]
  },
  {
   "cell_type": "markdown",
   "metadata": {},
   "source": [
    "函数文档\n",
    "- 函数的文档的作用是对当前函数提供使用相关的参数信息\n",
    "- 文档的写法：\n",
    "    - 在函数内部开始的第一行使用三引号字符串定义符\n",
    "    - 一般具有特定格式\n",
    "    - 参考案例\n",
    "- 文档查看\n",
    "    - 使用help函数，例如help(func)\n",
    "    - 使用doc"
   ]
  },
  {
   "cell_type": "code",
   "execution_count": 22,
   "metadata": {},
   "outputs": [],
   "source": [
    "# 文档案例\n",
    "# 函数stu是模拟一个学生的自我介绍的内容\n",
    "def stu(name,age, *args):\n",
    "    '''\n",
    "    这是第一行\n",
    "    这是第二行\n",
    "    这是第三行\n",
    "    '''\n",
    "    print(\"This is hanshu stu\")"
   ]
  },
  {
   "cell_type": "code",
   "execution_count": 28,
   "metadata": {},
   "outputs": [
    {
     "name": "stdout",
     "output_type": "stream",
     "text": [
      "Help on function stu in module __main__:\n",
      "\n",
      "stu(name, age, *args)\n",
      "    这是第一行\n",
      "    这是第二行\n",
      "    这是第三行\n",
      "\n"
     ]
    },
    {
     "ename": "AttributeError",
     "evalue": "'function' object has no attribute '_doc_'",
     "output_type": "error",
     "traceback": [
      "\u001b[1;31m---------------------------------------------------------------------------\u001b[0m",
      "\u001b[1;31mAttributeError\u001b[0m                            Traceback (most recent call last)",
      "\u001b[1;32m<ipython-input-28-a034d52e5203>\u001b[0m in \u001b[0;36m<module>\u001b[1;34m()\u001b[0m\n\u001b[0;32m      1\u001b[0m \u001b[1;31m# 查看函数文档\u001b[0m\u001b[1;33m\u001b[0m\u001b[1;33m\u001b[0m\u001b[0m\n\u001b[0;32m      2\u001b[0m \u001b[0mhelp\u001b[0m\u001b[1;33m(\u001b[0m\u001b[0mstu\u001b[0m\u001b[1;33m)\u001b[0m\u001b[1;33m\u001b[0m\u001b[0m\n\u001b[1;32m----> 3\u001b[1;33m \u001b[0mstu\u001b[0m\u001b[1;33m.\u001b[0m\u001b[0m_doc_\u001b[0m\u001b[1;33m\u001b[0m\u001b[0m\n\u001b[0m",
      "\u001b[1;31mAttributeError\u001b[0m: 'function' object has no attribute '_doc_'"
     ]
    }
   ],
   "source": [
    "# 查看函数文档\n",
    "help(stu)\n",
    "stu._doc_"
   ]
  },
  {
   "cell_type": "code",
   "execution_count": 30,
   "metadata": {},
   "outputs": [
    {
     "name": "stdout",
     "output_type": "stream",
     "text": [
      "Help on function stu in module __main__:\n",
      "\n",
      "stu(name, age)\n",
      "    这是文档内容\n",
      "    :param name:    表示学生的姓名\n",
      "    :param age:   表示学生的年龄\n",
      "    :return:    此函数没有返回值\n",
      "\n",
      "None\n",
      "********************\n",
      "\n",
      "    这是文档内容\n",
      "    :param name:    表示学生的姓名\n",
      "    :param age:   表示学生的年龄\n",
      "    :return:    此函数没有返回值\n",
      "    \n"
     ]
    }
   ],
   "source": [
    "def stu(name,age):\n",
    "    '''\n",
    "    这是文档内容\n",
    "    :param name:    表示学生的姓名\n",
    "    :param age:   表示学生的年龄\n",
    "    :return:    此函数没有返回值\n",
    "    '''\n",
    "    pass\n",
    "print(help(stu))\n",
    "\n",
    "print(\"*\" * 20 )\n",
    "\n",
    "print(stu.__doc__)"
   ]
  },
  {
   "cell_type": "code",
   "execution_count": null,
   "metadata": {},
   "outputs": [],
   "source": []
  }
 ],
 "metadata": {
  "kernelspec": {
   "display_name": "Python 3",
   "language": "python",
   "name": "python3"
  },
  "language_info": {
   "codemirror_mode": {
    "name": "ipython",
    "version": 3
   },
   "file_extension": ".py",
   "mimetype": "text/x-python",
   "name": "python",
   "nbconvert_exporter": "python",
   "pygments_lexer": "ipython3",
   "version": "3.7.0"
  }
 },
 "nbformat": 4,
 "nbformat_minor": 2
}
