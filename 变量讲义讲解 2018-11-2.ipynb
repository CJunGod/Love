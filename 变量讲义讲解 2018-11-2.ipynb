{
 "cells": [
  {
   "cell_type": "markdown",
   "metadata": {},
   "source": [
    "# Python 基础\n",
    "## Python 概述\n",
    "- 计算机语言概述\n",
    "     - 语言：交流工具，沟通的媒介\n",
    "     - 计算机语言 ： 人跟计算机交流的工具，翻译官\n",
    "     - Python是计算机语言里的一种  \n",
    "     - Python编程语言\n",
    "         - 代码 ：人类语言，通过代码命令计算机，跟计算机交流\n",
    "         - Python 解释器：就是担任翻译工作的那个人\n",
    "         - 流程：\n",
    "             - 写代码\n",
    "             - 执行：翻译官编译 命令（Code）\n",
    "     - Python读音问题\n",
    "     - Python 简史\n",
    "       - 1989年，Guido van Rossum\n",
    "       - 2008年，Python3.0 诞生\n",
    "       - 2014年：宣布2.7支持到2020年\n",
    "       - 2017年：AI元年，Python崛起 \n",
    "     - Python特点\n",
    "         - 速度问题\n",
    "         - Python跟其他语言的选择问题\n",
    "     - Python的应用领域\n",
    "         - 全能 \n",
    "         - 设计哲学：平衡发展，样样精通，简单明了\n",
    "     - Python为什么这么火\n",
    "         - 会不会持续火\n",
    "     - 环境问题\n",
    "         - anaconda+pycharm\n",
    "         - Python3.6"
   ]
  },
  {
   "cell_type": "code",
   "execution_count": 10,
   "metadata": {},
   "outputs": [
    {
     "name": "stdout",
     "output_type": "stream",
     "text": [
      "hello,world\n"
     ]
    },
    {
     "data": {
      "text/plain": [
       "'这里面机器都不管 块注释'"
      ]
     },
     "execution_count": 10,
     "metadata": {},
     "output_type": "execute_result"
    }
   ],
   "source": [
    "#注释\n",
    "print(\"hello,world\"); #打印hello，world\n",
    "'''这里面机器都不管 块注释'''"
   ]
  },
  {
   "cell_type": "markdown",
   "metadata": {},
   "source": [
    "# 注释\n",
    "    -注释的写法\n",
    "        - 行注释：以#号开头，也可以在某行代码后面\n",
    "        - 块注释：以'''开始，以'''结束 ,中间内容都忽略"
   ]
  },
  {
   "cell_type": "markdown",
   "metadata": {},
   "source": [
    "# 变量\n",
    " - 程序 = 数据结构+算法\n",
    " - 变量就是可以重复使用的一个量，或者一个代号\n",
    " - 变量命名的规则\n",
    "     - 变量明规则：可以包含数字，大小写字母，下划线或者更多，但是不推荐除了前三种内容之外的符号\n",
    "     - 数字不可以打头 例如：4man，5for 不可以\n",
    "     - 一般在Python中，以下划线开头的内容具有特殊含义，不建议使用，例如：_age,_name，理论上可以，但是强烈不建议，包括但不限于一个下划线开头和两个连续下划线开头\n",
    "     - 大小写不一样，俗称大小写敏感\n",
    "         - ForMan 跟 foeMan 不是一个变量名称\n",
    "     - 推荐\n",
    "         - 使用具有固定含义的英文单词或者缩写，例如：srv=server skt=socket，一般以posix命名规则为主\n",
    "         - 驼峰命名法\n",
    "             - 名称以单词自动连接，且每个单词首字母大写\n",
    "                 - 在Python中给类命名使用此法\n",
    "                 - 大驼峰，每个单词第一个字母均大写，例如：MyFirstLove，IntOne\n",
    "             - 小驼峰，类似于大驼峰，但第一个字母小写\n",
    "                 - 在Python中一般给普通变量或者函数命名\n",
    "                 - myFirstLove，intOne\n",
    "             - posix写法\n",
    "                 - 多个单词用下户线连接\n",
    "                 - 单词全部小写\n",
    "                 - my_first_love，int_one\n",
    "      - 保留字和关键字\n",
    "          - 变量名必须避开，不能跟关键字和保留字重复\n",
    "          - class，得分，break，for"
   ]
  },
  {
   "cell_type": "code",
   "execution_count": 2,
   "metadata": {},
   "outputs": [
    {
     "name": "stdout",
     "output_type": "stream",
     "text": [
      "['False', 'None', 'True', 'and', 'as', 'assert', 'async', 'await', 'break', 'class', 'continue', 'def', 'del', 'elif', 'else', 'except', 'finally', 'for', 'from', 'global', 'if', 'import', 'in', 'is', 'lambda', 'nonlocal', 'not', 'or', 'pass', 'raise', 'return', 'try', 'while', 'with', 'yield']\n"
     ]
    }
   ],
   "source": [
    "# 查看关键字大的方法\n",
    "import keyword #引入关键字模块\n",
    "#打印出系统关键字\n",
    "print(keyword.kwlist)"
   ]
  },
  {
   "cell_type": "markdown",
   "metadata": {},
   "source": [
    "## 变量声明\n",
    "- var_name = var_value\n",
    "- var1 = var2 = var3 = var_value \n",
    "- var1,var2,var3 = v1,v2,v3"
   ]
  },
  {
   "cell_type": "code",
   "execution_count": 5,
   "metadata": {},
   "outputs": [
    {
     "name": "stdout",
     "output_type": "stream",
     "text": [
      "18\n",
      "18\n",
      "18\n",
      "18\n",
      "18\n",
      "12\n",
      "21\n",
      "46\n"
     ]
    }
   ],
   "source": [
    "# 定义变量age 把18放入变量age中\n",
    "age = 18\n",
    "print(age)\n",
    "print(18)\n",
    "\n",
    "# 给age1，age2,age3 放入同样一个内容或值\n",
    "age1 = age2 = age3 = 18\n",
    "print(age1);\n",
    "print(age2);\n",
    "print(age3);\n",
    "\n",
    "#一行内给多个变量赋值\n",
    "age4,age5,age6 = 12,21,46\n",
    "print(age4)\n",
    "print(age5)\n",
    "print(age6)"
   ]
  },
  {
   "cell_type": "markdown",
   "metadata": {},
   "source": [
    "## 变量类型\n",
    "- 严格意义上讲，python只有一个类型\n",
    "- 标准数据一共六种\n",
    "    - 数字类型 Number\n",
    "    - 字符串类型 Str\n",
    "    - 列表 list\n",
    "    - 元组 tuple\n",
    "    - 字典 Dictionary\n",
    "    - 集合 set"
   ]
  },
  {
   "cell_type": "markdown",
   "metadata": {},
   "source": [
    "# Number 数字类型\n",
    "- 数字类型没有大小限制\n",
    "1. 整数\n",
    "   - 没有小数部分，表示个数的数字\n",
    "   - 自然数，0，负自然数\n",
    "   - 整数分进制\n",
    "     - 二进制\n",
    "         - 计算机常用\n",
    "         - 是计算机唯一能直接理解的数字\n",
    "         - 表示为0b开头的0,1代码\n",
    "         - 例如 0b01101，0b10001\n",
    "     - 八进制\n",
    "         - 不常用\n",
    "         - 以0o开头的包含0-7的数字\n",
    "     - 十六进制\n",
    "         - 逢16进一\n",
    "         - 其实是每四个二进制表示一位十六进制数\n",
    "         - 包含0-9 ，a-f\n",
    "         - 数字上以0x开头表示\n",
    "     - 十进制\n",
    "         - 18,89,178"
   ]
  },
  {
   "cell_type": "code",
   "execution_count": 11,
   "metadata": {},
   "outputs": [
    {
     "name": "stdout",
     "output_type": "stream",
     "text": [
      "18\n",
      "18\n",
      "66\n",
      "255\n"
     ]
    }
   ],
   "source": [
    "age = 18\n",
    "print(18)\n",
    "\n",
    "# 二进制表示\n",
    "age = 0b10010\n",
    "print(age)\n",
    "\n",
    "#八进制表示\n",
    "age = 0o102;\n",
    "print(age);\n",
    "\n",
    "#十六进制表示\n",
    "age = 0xff #十六进制ff表示二进制的1111 1111\n",
    "print(age)"
   ]
  },
  {
   "cell_type": "markdown",
   "metadata": {},
   "source": [
    "### 浮点数\n",
    "- 小数\n",
    "- 计算机里表示浮点数可以有条件省略\n",
    "- 3.1415\n",
    "- 3. \n",
    "- 0.5 .5\n",
    "- 科学计数法\n",
    "    - 定义跟数学定义一致\n",
    "    - 写法是用e/E后面跟整数表示10的指数\n",
    "    - 176.34 == 1.7634e2\n",
    "    - 0.876 == 8.76e-1"
   ]
  },
  {
   "cell_type": "code",
   "execution_count": 13,
   "metadata": {},
   "outputs": [
    {
     "name": "stdout",
     "output_type": "stream",
     "text": [
      "156.34\n",
      "0.2\n",
      "0.6\n"
     ]
    }
   ],
   "source": [
    "height = 156.34;\n",
    "print(height);\n",
    "\n",
    "shili = 0.2;\n",
    "print(shili);\n",
    "\n",
    "shili = .6;\n",
    "print(shili);"
   ]
  },
  {
   "cell_type": "markdown",
   "metadata": {},
   "source": [
    "### 复数complex\n",
    "- 定义同数学定义一致\n",
    "- 一个由实部和虚部构成的数字\n",
    "- 虚部用j/J表示\n",
    "- 5+3j\n",
    "- 3j\n",
    "- （3j）"
   ]
  },
  {
   "cell_type": "markdown",
   "metadata": {},
   "source": [
    "### 布尔值\n",
    "- 表示真假的值\n",
    "- 只有这两个值，True 真  False 假\n",
    "- 布尔值可以跟数字直接操作"
   ]
  },
  {
   "cell_type": "code",
   "execution_count": 23,
   "metadata": {},
   "outputs": [
    {
     "name": "stdout",
     "output_type": "stream",
     "text": [
      "19\n",
      "18\n"
     ]
    }
   ],
   "source": [
    "### 布尔值操作\n",
    "age = 18 + True;\n",
    "print(age);\n",
    "\n",
    "age = 18 + False;\n",
    "print(age);"
   ]
  },
  {
   "cell_type": "markdown",
   "metadata": {},
   "source": [
    "## 字符串\n",
    "- 用来表示一串文字信息\n",
    "- 如何表示\n",
    "    - 单引号\n",
    "    - 双引号\n",
    "    - 三引号（三个单引号或者三个双引号）\n",
    "        - 能够扩起多行信息\n",
    "- 单双引号可以交错使用"
   ]
  },
  {
   "cell_type": "code",
   "execution_count": 24,
   "metadata": {},
   "outputs": [
    {
     "name": "stdout",
     "output_type": "stream",
     "text": [
      "I love you\n",
      "我爱你\n",
      "<a style='color:red'>哈哈</a>\n",
      "\n",
      "    I love you\n",
      "    我爱你\n",
      "    ahahahaha\n",
      "\n"
     ]
    }
   ],
   "source": [
    "Love  = \"I love you\" ;\n",
    "print(Love);\n",
    "\n",
    "Love = '我爱你';\n",
    "print(Love);\n",
    "\n",
    "### 单双引号交错使用的例子\n",
    "### <a style=\"color:red\">哈哈</a>\n",
    "### 用引号表示上面的字符串\n",
    "html = \"<a style='color:red'>哈哈</a>\";\n",
    "print(html);\n",
    "\n",
    "html = '''\n",
    "    I love you\n",
    "    我爱你\n",
    "    ahahahaha\n",
    "'''\n",
    "print(html);"
   ]
  },
  {
   "cell_type": "markdown",
   "metadata": {},
   "source": [
    "# 字符串\n",
    "\n",
    "- 转义字符\n",
    "- 格式化\n",
    "- 内建函数（后延）\n",
    "\n",
    "# 转义字符\n",
    "- 用一些特殊的方法表示出一系列不方便写出的内容，比如回车键，换行键，退格键\n",
    "- 借助反斜杠字符，一旦字符中出现反斜杠，则反斜杠后面的一个或多个字符表示已经不是原来的意思了，进行了转义\n",
    "- 在字符串中，一旦出现反斜杠就要加倍小心，可能由转义字符出现\n",
    "- 在不同系统对换行操作不同的表示\n",
    "    - windows：\\n\n",
    "    - Linux：\\r\\n"
   ]
  },
  {
   "cell_type": "code",
   "execution_count": 14,
   "metadata": {},
   "outputs": [
    {
     "name": "stdout",
     "output_type": "stream",
     "text": [
      "i love you\n",
      "Let's go\n",
      "Let's go\n",
      "C:\\user\n",
      "I Love \n",
      " you\n"
     ]
    }
   ],
   "source": [
    "s = \"i love you\";\n",
    "print(s);\n",
    "\n",
    "# 表示想表示出Let's go 来\n",
    "# 1.可以使用嵌套引导，即外层使用双引导\n",
    "# 2.转义字符\n",
    "s = \"Let's go\";\n",
    "print(s);\n",
    "\n",
    "ss = 'Let\\'s go';\n",
    "print(ss);\n",
    "\n",
    "# 两个反斜杠等于一个反斜杠\n",
    "sss = \"C:\\\\user\";\n",
    "print(sss);\n",
    "\n",
    "# 回车换行符\n",
    "sl = \"I Love \\n you\";\n",
    "print(sl);"
   ]
  },
  {
   "cell_type": "markdown",
   "metadata": {},
   "source": [
    "## 字符串的格式化\n",
    "- 把字符串按照一定格式打印或者填充\n",
    "- 格式化由两种方法\n",
    "    - 利用百分号（%）\n",
    "    - 利用format函数"
   ]
  },
  {
   "cell_type": "code",
   "execution_count": null,
   "metadata": {},
   "outputs": [],
   "source": [
    "s = \"xxx 你好，我们开始学时python了，快点来一起学霸\""
   ]
  },
  {
   "cell_type": "markdown",
   "metadata": {},
   "source": [
    "### 利用百分号格式化\n",
    "- 在字符串中，利用%表示一个特殊的含义，表示对字符进行格式化\n",
    "- %d：此处应该放入一个整数\n",
    "- %s：表示此处应该放入一个字符串"
   ]
  },
  {
   "cell_type": "code",
   "execution_count": 16,
   "metadata": {},
   "outputs": [
    {
     "name": "stdout",
     "output_type": "stream",
     "text": [
      "I Love %s\n"
     ]
    }
   ],
   "source": [
    "s = \"I Love %s\";\n",
    "# 下面打印，直接把%s作为字符串的一个内容打印出来\n",
    "print(s);"
   ]
  },
  {
   "cell_type": "code",
   "execution_count": 18,
   "metadata": {},
   "outputs": [
    {
     "name": "stdout",
     "output_type": "stream",
     "text": [
      "I Love you\n"
     ]
    }
   ],
   "source": [
    "print(\"I Love %s\" %\"you\");"
   ]
  },
  {
   "cell_type": "code",
   "execution_count": 20,
   "metadata": {},
   "outputs": [
    {
     "name": "stdout",
     "output_type": "stream",
     "text": [
      "I Love you\n"
     ]
    }
   ],
   "source": [
    "print(s%\"you\")"
   ]
  },
  {
   "cell_type": "code",
   "execution_count": 23,
   "metadata": {},
   "outputs": [
    {
     "name": "stdout",
     "output_type": "stream",
     "text": [
      "I am %d years old\n",
      "I am 18 years old\n"
     ]
    }
   ],
   "source": [
    "# 留意下面两句话的区别和结果\n",
    "s = \"I am %d years old\";\n",
    "print(s);\n",
    "s = \"I am %d years old\";\n",
    "print(s %18);"
   ]
  },
  {
   "cell_type": "code",
   "execution_count": 28,
   "metadata": {},
   "outputs": [
    {
     "name": "stdout",
     "output_type": "stream",
     "text": [
      "I am %s,I am %d years old\n",
      "I am 帅哥,I am 18 years old\n"
     ]
    }
   ],
   "source": [
    "s = \"I am %s,I am %d years old\";\n",
    "print(s);\n",
    "# 注意以下表达出来的错误的原因\n",
    "# 如何字符串中有占位符，则有几个占位符就要有几个实际内容代替，或者一个也不要\n",
    "\n",
    "#如果出现多个占位符，则相应内容需要用括号括起来\n",
    "print(s %(\"帅哥\",18));"
   ]
  },
  {
   "cell_type": "markdown",
   "metadata": {},
   "source": [
    "### format函数格式化字符串\n",
    "- 直接用 f o r m a t 函数进行格式化\n",
    "- 推荐使用这种方法\n",
    "- 在使用上，以{}和：代替%号，后面用format带参数完成"
   ]
  },
  {
   "cell_type": "code",
   "execution_count": 35,
   "metadata": {},
   "outputs": [
    {
     "name": "stdout",
     "output_type": "stream",
     "text": [
      "I love you\n",
      "Yes,I am 18 years old,I Love you and I am 18 years old\n"
     ]
    }
   ],
   "source": [
    "s = \"I love {}\".format(\"you\");\n",
    "print(s);\n",
    "\n",
    "s = \"Yes,I am {1} years old,I Love {0} and I am {1} years old\".format(\"you\",18)\n",
    "print(s);"
   ]
  },
  {
   "cell_type": "markdown",
   "metadata": {},
   "source": [
    "## None\n",
    "- 表示什么都没有\n",
    "- 如果函数没有返回值，可以返回 None;\n",
    "- 用来占位置\n",
    "- 用来解除变量绑定"
   ]
  },
  {
   "cell_type": "code",
   "execution_count": null,
   "metadata": {},
   "outputs": [],
   "source": []
  }
 ],
 "metadata": {
  "kernelspec": {
   "display_name": "Python 3",
   "language": "python",
   "name": "python3"
  },
  "language_info": {
   "codemirror_mode": {
    "name": "ipython",
    "version": 3
   },
   "file_extension": ".py",
   "mimetype": "text/x-python",
   "name": "python",
   "nbconvert_exporter": "python",
   "pygments_lexer": "ipython3",
   "version": "3.7.0"
  }
 },
 "nbformat": 4,
 "nbformat_minor": 2
}
